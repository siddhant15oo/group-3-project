{
  "nbformat": 4,
  "nbformat_minor": 0,
  "metadata": {
    "colab": {
      "provenance": []
    },
    "kernelspec": {
      "name": "python3",
      "display_name": "Python 3"
    },
    "language_info": {
      "name": "python"
    }
  },
  "cells": [
    {
      "cell_type": "markdown",
      "source": [
        "importing all required libraries\n"
      ],
      "metadata": {
        "id": "eoIB6TBIrdKh"
      }
    },
    {
      "cell_type": "code",
      "execution_count": 23,
      "metadata": {
        "id": "ZE0ZqlvG8yrt"
      },
      "outputs": [],
      "source": [
        "import pandas as pd\n",
        "import numpy as np\n",
        "import matplotlib.pyplot as plt\n",
        "import sklearn.linear_model as lm\n",
        "%matplotlib inline\n",
        "from sklearn.metrics import mean_squared_error\n",
        "from sklearn.metrics import mean_absolute_error"
      ]
    },
    {
      "cell_type": "markdown",
      "source": [
        "installing icecream to make code easrier\n"
      ],
      "metadata": {
        "id": "reW4sYKbrp2d"
      }
    },
    {
      "cell_type": "code",
      "source": [
        "!pip install icecream\n",
        "from icecream import ic\n"
      ],
      "metadata": {
        "colab": {
          "base_uri": "https://localhost:8080/",
          "height": 0
        },
        "id": "3aC1NF0N89lk",
        "outputId": "aa68d7dc-6d7c-476f-85fc-26c9705b64f9"
      },
      "execution_count": 24,
      "outputs": [
        {
          "output_type": "stream",
          "name": "stdout",
          "text": [
            "Looking in indexes: https://pypi.org/simple, https://us-python.pkg.dev/colab-wheels/public/simple/\n",
            "Requirement already satisfied: icecream in /usr/local/lib/python3.10/dist-packages (2.1.3)\n",
            "Requirement already satisfied: colorama>=0.3.9 in /usr/local/lib/python3.10/dist-packages (from icecream) (0.4.6)\n",
            "Requirement already satisfied: pygments>=2.2.0 in /usr/local/lib/python3.10/dist-packages (from icecream) (2.14.0)\n",
            "Requirement already satisfied: executing>=0.3.1 in /usr/local/lib/python3.10/dist-packages (from icecream) (1.2.0)\n",
            "Requirement already satisfied: asttokens>=2.0.1 in /usr/local/lib/python3.10/dist-packages (from icecream) (2.2.1)\n",
            "Requirement already satisfied: six in /usr/local/lib/python3.10/dist-packages (from asttokens>=2.0.1->icecream) (1.16.0)\n"
          ]
        }
      ]
    },
    {
      "cell_type": "markdown",
      "source": [
        "reading csv file "
      ],
      "metadata": {
        "id": "66apAdxhrvix"
      }
    },
    {
      "cell_type": "code",
      "source": [
        "df=pd.read_csv('singdata1950-2022.csv', header=None)\n"
      ],
      "metadata": {
        "id": "IcRy-SFU9VR7"
      },
      "execution_count": 25,
      "outputs": []
    },
    {
      "cell_type": "markdown",
      "source": [
        "making a scaling factor"
      ],
      "metadata": {
        "id": "XK4w19PxrxcY"
      }
    },
    {
      "cell_type": "code",
      "source": [
        "year=df.iloc[1:,0].values.astype('int')\n",
        "population=df.iloc[1:,1].values.astype('int')\n",
        "#first is for rows and second is columns\n",
        "scaling_factor=max(population)\n",
        "population=population/max(population)\n",
        "print(year)\n",
        "print(population)"
      ],
      "metadata": {
        "id": "f2CPYP749tT-",
        "colab": {
          "base_uri": "https://localhost:8080/",
          "height": 0
        },
        "outputId": "d269d0a6-0cdf-458e-dc59-a8e859721cac"
      },
      "execution_count": 26,
      "outputs": [
        {
          "output_type": "stream",
          "name": "stdout",
          "text": [
            "[1950 1951 1952 1953 1954 1955 1956 1957 1958 1959 1960 1961 1962 1963\n",
            " 1964 1965 1966 1967 1968 1969 1970 1971 1972 1973 1974 1975 1976 1977\n",
            " 1978 1979 1980 1981 1982 1983 1984 1985 1986 1987 1988 1989 1990 1991\n",
            " 1992 1993 1994 1995 1996 1997 1998 1999 2000 2001 2002 2003 2004 2005\n",
            " 2006 2007 2008 2009 2010 2011 2012 2013 2014 2015 2016 2017 2018 2019\n",
            " 2020 2021]\n",
            "[0.17920358 0.18726871 0.19759558 0.20895688 0.21884543 0.22889177\n",
            " 0.240481   0.25351302 0.26628941 0.2782819  0.28866136 0.29847978\n",
            " 0.31471522 0.31734516 0.32288555 0.33082794 0.33915606 0.34673027\n",
            " 0.35276158 0.35810911 0.36372086 0.37045226 0.37737774 0.38449609\n",
            " 0.39094819 0.39669898 0.40208157 0.4076921  0.4126539  0.41789623\n",
            " 0.42323412 0.44407896 0.46400175 0.47006725 0.47903707 0.4796921\n",
            " 0.47923905 0.48650047 0.49900475 0.5138714  0.53425005 0.54967039\n",
            " 0.56643446 0.58094695 0.59945764 0.61794746 0.64358019 0.66555485\n",
            " 0.68855361 0.69407822 0.70620466 0.72551274 0.73216437 0.72144757\n",
            " 0.73053627 0.747911   0.77168611 0.80451363 0.84848557 0.87446527\n",
            " 0.89009741 0.90884988 0.93142329 0.94662868 0.95900023 0.97044535\n",
            " 0.98311829 0.98398967 0.98862239 1.         0.99688581 0.95616727]\n"
          ]
        }
      ]
    },
    {
      "cell_type": "markdown",
      "source": [
        "ploting "
      ],
      "metadata": {
        "id": "wijLZ8Uur7he"
      }
    },
    {
      "cell_type": "code",
      "source": [
        "plt.xlabel('year')\n",
        "plt.ylabel('Pop(millions)')\n",
        "plt.title('singdata of pop')\n",
        "plt.plot(year,population)"
      ],
      "metadata": {
        "id": "4RSegZ6R_ekq",
        "colab": {
          "base_uri": "https://localhost:8080/",
          "height": 490
        },
        "outputId": "6ea7f023-9cc3-497f-8def-12677de4d3fa"
      },
      "execution_count": 27,
      "outputs": [
        {
          "output_type": "execute_result",
          "data": {
            "text/plain": [
              "[<matplotlib.lines.Line2D at 0x7f96727d8370>]"
            ]
          },
          "metadata": {},
          "execution_count": 27
        },
        {
          "output_type": "display_data",
          "data": {
            "text/plain": [
              "<Figure size 640x480 with 1 Axes>"
            ],
            "image/png": "[encoded data removed]"
          },
          "metadata": {}
        }
      ]
    },
    {
      "cell_type": "markdown",
      "source": [
        "making test data"
      ],
      "metadata": {
        "id": "LmnkRyDHr9QX"
      }
    },
    {
      "cell_type": "code",
      "source": [
        "test_year=year[-3:].reshape(-1,1)\n",
        "print(test_year)"
      ],
      "metadata": {
        "id": "35KUPyRwAREv",
        "colab": {
          "base_uri": "https://localhost:8080/",
          "height": 0
        },
        "outputId": "1077e8f0-88b2-4fca-d79d-b772ac3942e5"
      },
      "execution_count": 28,
      "outputs": [
        {
          "output_type": "stream",
          "name": "stdout",
          "text": [
            "[[2019]\n",
            " [2020]\n",
            " [2021]]\n"
          ]
        }
      ]
    },
    {
      "cell_type": "markdown",
      "source": [
        "removing test data from the array"
      ],
      "metadata": {
        "id": "6KGj6an1r_KR"
      }
    },
    {
      "cell_type": "code",
      "source": [
        "test_pop=population[-3:].reshape(-1,1)\n",
        "print(test_pop)"
      ],
      "metadata": {
        "id": "tVHTt27gAgK1",
        "colab": {
          "base_uri": "https://localhost:8080/",
          "height": 0
        },
        "outputId": "78954c83-7c07-463f-c429-b5a890a7f114"
      },
      "execution_count": 29,
      "outputs": [
        {
          "output_type": "stream",
          "name": "stdout",
          "text": [
            "[[1.        ]\n",
            " [0.99688581]\n",
            " [0.95616727]]\n"
          ]
        }
      ]
    },
    {
      "cell_type": "markdown",
      "source": [
        "training the ml"
      ],
      "metadata": {
        "id": "W49av21CsCqu"
      }
    },
    {
      "cell_type": "code",
      "source": [
        "train_pop, train_year = population[:-3].reshape(-1,1), year[:-3].reshape(-1,1)\n",
        "print(train_year)"
      ],
      "metadata": {
        "id": "98Q-LiFNBEr2",
        "colab": {
          "base_uri": "https://localhost:8080/",
          "height": 0
        },
        "outputId": "b4a771ee-b315-4b5a-9c2c-9d9c26df39ee"
      },
      "execution_count": 30,
      "outputs": [
        {
          "output_type": "stream",
          "name": "stdout",
          "text": [
            "[[1950]\n",
            " [1951]\n",
            " [1952]\n",
            " [1953]\n",
            " [1954]\n",
            " [1955]\n",
            " [1956]\n",
            " [1957]\n",
            " [1958]\n",
            " [1959]\n",
            " [1960]\n",
            " [1961]\n",
            " [1962]\n",
            " [1963]\n",
            " [1964]\n",
            " [1965]\n",
            " [1966]\n",
            " [1967]\n",
            " [1968]\n",
            " [1969]\n",
            " [1970]\n",
            " [1971]\n",
            " [1972]\n",
            " [1973]\n",
            " [1974]\n",
            " [1975]\n",
            " [1976]\n",
            " [1977]\n",
            " [1978]\n",
            " [1979]\n",
            " [1980]\n",
            " [1981]\n",
            " [1982]\n",
            " [1983]\n",
            " [1984]\n",
            " [1985]\n",
            " [1986]\n",
            " [1987]\n",
            " [1988]\n",
            " [1989]\n",
            " [1990]\n",
            " [1991]\n",
            " [1992]\n",
            " [1993]\n",
            " [1994]\n",
            " [1995]\n",
            " [1996]\n",
            " [1997]\n",
            " [1998]\n",
            " [1999]\n",
            " [2000]\n",
            " [2001]\n",
            " [2002]\n",
            " [2003]\n",
            " [2004]\n",
            " [2005]\n",
            " [2006]\n",
            " [2007]\n",
            " [2008]\n",
            " [2009]\n",
            " [2010]\n",
            " [2011]\n",
            " [2012]\n",
            " [2013]\n",
            " [2014]\n",
            " [2015]\n",
            " [2016]\n",
            " [2017]\n",
            " [2018]]\n"
          ]
        }
      ]
    },
    {
      "cell_type": "markdown",
      "source": [
        "finding the intercept and slope"
      ],
      "metadata": {
        "id": "0JegnkgasFzy"
      }
    },
    {
      "cell_type": "code",
      "source": [
        "lrp=lm.LinearRegression()\n",
        "lrp.fit(train_year, train_pop)\n",
        "slope=lrp.coef_[0]\n",
        "intercept=lrp.intercept_\n",
        "print(\"y=\"+str(slope)+'x'+str(intercept))"
      ],
      "metadata": {
        "id": "EJ67Y5-NBuPN",
        "colab": {
          "base_uri": "https://localhost:8080/",
          "height": 0
        },
        "outputId": "afa64d87-092d-4705-e21f-0e91bf0eb76f"
      },
      "execution_count": 31,
      "outputs": [
        {
          "output_type": "stream",
          "name": "stdout",
          "text": [
            "y=[0.01167588]x[-22.635137]\n"
          ]
        }
      ]
    },
    {
      "cell_type": "markdown",
      "source": [
        "predicting the data then finding mean squared error and mean absolute error"
      ],
      "metadata": {
        "id": "gVWrEo9vsONQ"
      }
    },
    {
      "cell_type": "code",
      "source": [
        "train_pred=lrp.predict(train_year)\n",
        "mse_train=mean_squared_error(train_pred, train_pop)\n",
        "mae_train=mean_absolute_error(train_pred, train_pop)\n",
        "\n",
        "test_pred=lrp.predict(test_year)\n",
        "mse_test=mean_squared_error(test_pred,test_pop)\n",
        "mae_test=mean_absolute_error(test_pred, test_pop)\n",
        "\n",
        "ic(mse_train)\n",
        "ic(mse_test)\n",
        "ic(mae_train)\n",
        "ic(mae_test)"
      ],
      "metadata": {
        "id": "4r6brlBzCmRq",
        "colab": {
          "base_uri": "https://localhost:8080/",
          "height": 0
        },
        "outputId": "ba00796d-b79c-4dc9-e659-174869795d6f"
      },
      "execution_count": 32,
      "outputs": [
        {
          "output_type": "stream",
          "name": "stderr",
          "text": [
            "ic| mse_train: 0.0021247105871611523\n",
            "ic| mse_test: 0.0020006968057079723\n",
            "ic| mae_train: 0.04036377304821222\n",
            "ic| mae_test: 0.03797408578655052\n"
          ]
        },
        {
          "output_type": "execute_result",
          "data": {
            "text/plain": [
              "0.03797408578655052"
            ]
          },
          "metadata": {},
          "execution_count": 32
        }
      ]
    },
    {
      "cell_type": "markdown",
      "source": [
        "plotting the best fit line"
      ],
      "metadata": {
        "id": "E2Ze02Y6sTbJ"
      }
    },
    {
      "cell_type": "code",
      "source": [
        "plt.xlabel('year')\n",
        "plt.ylabel('pop(millions)')\n",
        "plt.title('sg pop ')\n",
        "plt.plot(year,population, label='Data')\n",
        "plt.plot(train_year, train_pop, label='best fit line')\n",
        "plt.plot(test_year, test_pop,'g+', label='future prediction')\n",
        "plt.legend()"
      ],
      "metadata": {
        "id": "RFw8Ymf5EM1m",
        "colab": {
          "base_uri": "https://localhost:8080/",
          "height": 490
        },
        "outputId": "b0284830-939d-4fed-f0fc-0f58c1059f5a"
      },
      "execution_count": 33,
      "outputs": [
        {
          "output_type": "execute_result",
          "data": {
            "text/plain": [
              "<matplotlib.legend.Legend at 0x7f9672812230>"
            ]
          },
          "metadata": {},
          "execution_count": 33
        },
        {
          "output_type": "display_data",
          "data": {
            "text/plain": [
              "<Figure size 640x480 with 1 Axes>"
            ],
            "image/png": "[encoded data removed]"
          },
          "metadata": {}
        }
      ]
    },
    {
      "cell_type": "markdown",
      "source": [
        "prediccting population and scaling according to millions"
      ],
      "metadata": {
        "id": "mIlwtouhspa8"
      }
    },
    {
      "cell_type": "code",
      "source": [
        "lrp.predict([[2030],[2050]])*scaling_factor"
      ],
      "metadata": {
        "id": "_av4wXdADilF",
        "colab": {
          "base_uri": "https://localhost:8080/",
          "height": 0
        },
        "outputId": "57fb479e-ac5c-4813-fb4f-1a46227356c1"
      },
      "execution_count": 34,
      "outputs": [
        {
          "output_type": "execute_result",
          "data": {
            "text/plain": [
              "array([[6085177.04360004],\n",
              "       [7417061.20874436]])"
            ]
          },
          "metadata": {},
          "execution_count": 34
        }
      ]
    },
    {
      "cell_type": "markdown",
      "source": [
        "same steps for india"
      ],
      "metadata": {
        "id": "K4rCVU1rsu96"
      }
    },
    {
      "cell_type": "code",
      "source": [
        "#for india\n",
        "\n",
        "df1=pd.read_csv('indiadata1950-2022.csv')"
      ],
      "metadata": {
        "id": "cQH2bJx1Gjgz"
      },
      "execution_count": 35,
      "outputs": []
    },
    {
      "cell_type": "code",
      "source": [
        "year1=df1.iloc[1:,0].values.astype('int')\n",
        "population1=df1.iloc[1:,1].values.astype('int')\n",
        "#first is for rows and second is columns\n",
        "scaling_factor1=max(population1)\n",
        "population1=population1/max(population1)\n",
        "print(year1)\n",
        "print(population1)"
      ],
      "metadata": {
        "id": "z3IBqGConM_k",
        "colab": {
          "base_uri": "https://localhost:8080/",
          "height": 0
        },
        "outputId": "f667845c-c7cf-4b44-e4a7-293e7e2261a0"
      },
      "execution_count": 36,
      "outputs": [
        {
          "output_type": "stream",
          "name": "stdout",
          "text": [
            "[1951 1952 1953 1954 1955 1956 1957 1958 1959 1960 1961 1962 1963 1964\n",
            " 1965 1966 1967 1968 1969 1970 1971 1972 1973 1974 1975 1976 1977 1978\n",
            " 1979 1980 1981 1982 1983 1984 1985 1986 1987 1988 1989 1990 1991 1992\n",
            " 1993 1994 1995 1996 1997 1998 1999 2000 2001 2002 2003 2004 2005 2006\n",
            " 2007 2008 2009 2010 2011 2012 2013 2014 2015 2016 2017 2018 2019 2020\n",
            " 2021 2022]\n",
            "[0.25750019 0.26319803 0.26900573 0.2750062  0.28124861 0.28765475\n",
            " 0.29420215 0.30080711 0.30758439 0.31467896 0.3220156  0.32954631\n",
            " 0.33724433 0.34509495 0.35289572 0.36057175 0.36832977 0.37640559\n",
            " 0.38479043 0.39338968 0.40220856 0.411268   0.42063136 0.43023814\n",
            " 0.43997744 0.44980491 0.45984897 0.47013856 0.48070934 0.49170306\n",
            " 0.50302201 0.5145239  0.52627764 0.53832176 0.55056227 0.56300741\n",
            " 0.57559382 0.58830473 0.60120576 0.61421722 0.62726403 0.64041154\n",
            " 0.65366133 0.66700526 0.68042435 0.69383279 0.70727787 0.72075495\n",
            " 0.73420812 0.74770938 0.76135431 0.7750027  0.78848171 0.80178245\n",
            " 0.81474779 0.82726219 0.83948231 0.85150836 0.86343729 0.87541427\n",
            " 0.88741532 0.8993165  0.9110616  0.92243244 0.93345438 0.94458205\n",
            " 0.95556119 0.96600989 0.97596545 0.98533274 0.99321937 1.        ]\n"
          ]
        }
      ]
    },
    {
      "cell_type": "code",
      "source": [
        "plt.xlabel('year')\n",
        "plt.ylabel('Pop(millions)')\n",
        "plt.title('inddata of pop')\n",
        "plt.plot(year1,population1)"
      ],
      "metadata": {
        "id": "kjUFj2wJnP97",
        "colab": {
          "base_uri": "https://localhost:8080/",
          "height": 490
        },
        "outputId": "8103e262-b817-4880-80ac-98ff76f28798"
      },
      "execution_count": 37,
      "outputs": [
        {
          "output_type": "execute_result",
          "data": {
            "text/plain": [
              "[<matplotlib.lines.Line2D at 0x7f9672a085b0>]"
            ]
          },
          "metadata": {},
          "execution_count": 37
        },
        {
          "output_type": "display_data",
          "data": {
            "text/plain": [
              "<Figure size 640x480 with 1 Axes>"
            ],
            "image/png": "[encoded data removed]"
          },
          "metadata": {}
        }
      ]
    },
    {
      "cell_type": "code",
      "source": [
        "test_year1=year[-3:].reshape(-1,1)\n",
        "print(test_year1)"
      ],
      "metadata": {
        "id": "o6AEtNTynQg2",
        "colab": {
          "base_uri": "https://localhost:8080/",
          "height": 0
        },
        "outputId": "32a947e0-2a0d-4b04-e698-efbb67831af7"
      },
      "execution_count": 38,
      "outputs": [
        {
          "output_type": "stream",
          "name": "stdout",
          "text": [
            "[[2019]\n",
            " [2020]\n",
            " [2021]]\n"
          ]
        }
      ]
    },
    {
      "cell_type": "code",
      "source": [
        "test_pop1=population[-3:].reshape(-1,1)\n",
        "print(test_pop1)"
      ],
      "metadata": {
        "id": "vkeNJlP8nYmx",
        "colab": {
          "base_uri": "https://localhost:8080/",
          "height": 0
        },
        "outputId": "1e318c26-691d-4900-c47b-5fb4a1504976"
      },
      "execution_count": 39,
      "outputs": [
        {
          "output_type": "stream",
          "name": "stdout",
          "text": [
            "[[1.        ]\n",
            " [0.99688581]\n",
            " [0.95616727]]\n"
          ]
        }
      ]
    },
    {
      "cell_type": "code",
      "source": [
        "train_pop1, train_year1 = population[:-3].reshape(-1,1), year[:-3].reshape(-1,1)\n",
        "print(train_year1)"
      ],
      "metadata": {
        "id": "YDVxUV7RncC3",
        "colab": {
          "base_uri": "https://localhost:8080/",
          "height": 0
        },
        "outputId": "63eb0bd3-9b55-4644-a861-00960465fa63"
      },
      "execution_count": 40,
      "outputs": [
        {
          "output_type": "stream",
          "name": "stdout",
          "text": [
            "[[1950]\n",
            " [1951]\n",
            " [1952]\n",
            " [1953]\n",
            " [1954]\n",
            " [1955]\n",
            " [1956]\n",
            " [1957]\n",
            " [1958]\n",
            " [1959]\n",
            " [1960]\n",
            " [1961]\n",
            " [1962]\n",
            " [1963]\n",
            " [1964]\n",
            " [1965]\n",
            " [1966]\n",
            " [1967]\n",
            " [1968]\n",
            " [1969]\n",
            " [1970]\n",
            " [1971]\n",
            " [1972]\n",
            " [1973]\n",
            " [1974]\n",
            " [1975]\n",
            " [1976]\n",
            " [1977]\n",
            " [1978]\n",
            " [1979]\n",
            " [1980]\n",
            " [1981]\n",
            " [1982]\n",
            " [1983]\n",
            " [1984]\n",
            " [1985]\n",
            " [1986]\n",
            " [1987]\n",
            " [1988]\n",
            " [1989]\n",
            " [1990]\n",
            " [1991]\n",
            " [1992]\n",
            " [1993]\n",
            " [1994]\n",
            " [1995]\n",
            " [1996]\n",
            " [1997]\n",
            " [1998]\n",
            " [1999]\n",
            " [2000]\n",
            " [2001]\n",
            " [2002]\n",
            " [2003]\n",
            " [2004]\n",
            " [2005]\n",
            " [2006]\n",
            " [2007]\n",
            " [2008]\n",
            " [2009]\n",
            " [2010]\n",
            " [2011]\n",
            " [2012]\n",
            " [2013]\n",
            " [2014]\n",
            " [2015]\n",
            " [2016]\n",
            " [2017]\n",
            " [2018]]\n"
          ]
        }
      ]
    },
    {
      "cell_type": "code",
      "source": [
        "lrp1=lm.LinearRegression()\n",
        "lrp1.fit(train_year1, train_pop1)\n",
        "slope1=lrp.coef_[0]\n",
        "intercept1=lrp1.intercept_\n",
        "print(\"y=\"+str(slope1)+'x'+str(intercept1))"
      ],
      "metadata": {
        "id": "tQQxHA2InfVh",
        "colab": {
          "base_uri": "https://localhost:8080/",
          "height": 0
        },
        "outputId": "c6b1aef2-36f5-4797-da61-26944aec53e0"
      },
      "execution_count": 41,
      "outputs": [
        {
          "output_type": "stream",
          "name": "stdout",
          "text": [
            "y=[0.01167588]x[-22.635137]\n"
          ]
        }
      ]
    },
    {
      "cell_type": "code",
      "source": [
        "train_pred1=lrp1.predict(train_year1)\n",
        "mse_train1=mean_squared_error(train_pred1, train_pop1)\n",
        "mae_train1=mean_absolute_error(train_pred1, train_pop1)\n",
        "\n",
        "test_pred1=lrp1.predict(test_year1)\n",
        "mse_test1=mean_squared_error(test_pred1,test_pop1)\n",
        "mae_test1=mean_absolute_error(test_pred1, test_pop1)\n",
        "\n",
        "ic(mse_train1)\n",
        "ic(mse_test1)\n",
        "ic(mae_train1)\n",
        "ic(mae_test1)"
      ],
      "metadata": {
        "id": "JdG0vuuHnigX",
        "colab": {
          "base_uri": "https://localhost:8080/",
          "height": 0
        },
        "outputId": "16bb197c-e74c-4246-a852-39f96330a918"
      },
      "execution_count": 42,
      "outputs": [
        {
          "output_type": "stream",
          "name": "stderr",
          "text": [
            "ic| mse_train1: 0.0021247105871611523\n",
            "ic| mse_test1: 0.0020006968057079723\n",
            "ic| mae_train1: 0.04036377304821222\n",
            "ic| mae_test1: 0.03797408578655052\n"
          ]
        },
        {
          "output_type": "execute_result",
          "data": {
            "text/plain": [
              "0.03797408578655052"
            ]
          },
          "metadata": {},
          "execution_count": 42
        }
      ]
    },
    {
      "cell_type": "code",
      "source": [
        "plt.xlabel('year')\n",
        "plt.ylabel('pop(millions)')\n",
        "plt.title('ind pop ')\n",
        "plt.plot(year1,population1, label='Data')\n",
        "plt.plot(train_year1, train_pop1, label='best fit line')\n",
        "plt.plot(test_year1, test_pop1,'g+', label='future prediction')\n",
        "plt.legend()\n"
      ],
      "metadata": {
        "id": "vdEs9BcvnlHk",
        "colab": {
          "base_uri": "https://localhost:8080/",
          "height": 490
        },
        "outputId": "ab88f4c6-48cf-45df-ffbe-9826c7e6d6fc"
      },
      "execution_count": 43,
      "outputs": [
        {
          "output_type": "execute_result",
          "data": {
            "text/plain": [
              "<matplotlib.legend.Legend at 0x7f967286b9d0>"
            ]
          },
          "metadata": {},
          "execution_count": 43
        },
        {
          "output_type": "display_data",
          "data": {
            "text/plain": [
              "<Figure size 640x480 with 1 Axes>"
            ],
            "image/png": "[encoded data removed]"
          },
          "metadata": {}
        }
      ]
    },
    {
      "cell_type": "code",
      "source": [
        "lrp1.predict([[2030],[2050]])*scaling_factor1"
      ],
      "metadata": {
        "id": "ohT5q1Zcnu2w",
        "colab": {
          "base_uri": "https://localhost:8080/",
          "height": 0
        },
        "outputId": "c732374a-a9c4-4015-a8ab-eca894a081a8"
      },
      "execution_count": 44,
      "outputs": [
        {
          "output_type": "execute_result",
          "data": {
            "text/plain": [
              "array([[1.51199182e+09],\n",
              "       [1.84292680e+09]])"
            ]
          },
          "metadata": {},
          "execution_count": 44
        }
      ]
    }
  ]
}